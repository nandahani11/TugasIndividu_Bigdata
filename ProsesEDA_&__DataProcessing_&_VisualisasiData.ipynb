{
  "nbformat": 4,
  "nbformat_minor": 0,
  "metadata": {
    "colab": {
      "name": "ProsesEDA_& _DataProcessing_&_VisualisasiData.ipynb",
      "provenance": [],
      "collapsed_sections": [],
      "authorship_tag": "ABX9TyNlauJOvOVIMobtjzXRDa+J",
      "include_colab_link": true
    },
    "kernelspec": {
      "name": "python3",
      "display_name": "Python 3"
    }
  },
  "cells": [
    {
      "cell_type": "markdown",
      "metadata": {
        "id": "view-in-github",
        "colab_type": "text"
      },
      "source": [
        "<a href=\"https://colab.research.google.com/github/nandahani11/TugasIndividu_Bigdata/blob/master/ProsesEDA_%26__DataProcessing_%26_VisualisasiData.ipynb\" target=\"_parent\"><img src=\"https://colab.research.google.com/assets/colab-badge.svg\" alt=\"Open In Colab\"/></a>"
      ]
    },
    {
      "cell_type": "markdown",
      "metadata": {
        "id": "PhYfm86JIgez",
        "colab_type": "text"
      },
      "source": [
        "**\"Menghitung Perbandingan Jumlah antara TV Show dengan MOVIE pada Netflix berdasarkan Tahun Perilisan\".**"
      ]
    },
    {
      "cell_type": "markdown",
      "metadata": {
        "id": "jVFr3ZInfgDr",
        "colab_type": "text"
      },
      "source": [
        "Pada tahapan Pengolahan dataset kali ini dilakukan tahapan-tahapan sebagai berikut :\n",
        "1. Proses EDA (Exloratory Data Analysis)\n",
        "2. Data Processing\n",
        "3. Visualisasi Data\n",
        "\n",
        "sebelum ketahapan pemrosesan data tersebut, perlu dilakukan beberapa installasi pada google colab, diantaranya sebagai berikut:"
      ]
    },
    {
      "cell_type": "markdown",
      "metadata": {
        "id": "kmdeSH-Vf0Wu",
        "colab_type": "text"
      },
      "source": [
        "*   Proses Installasi SPARK pada Google Colab"
      ]
    },
    {
      "cell_type": "code",
      "metadata": {
        "id": "HZlGGxbX84nd",
        "colab_type": "code",
        "colab": {}
      },
      "source": [
        "!apt-get install openjdk-8-jdk-headless -qq > /dev/null\n",
        "!wget -q http://www-eu.apache.org/dist/spark/spark-2.4.6/spark-2.4.6-bin-hadoop2.7.tgz\n",
        "!tar xf spark-2.4.6-bin-hadoop2.7.tgz\n",
        "!pip install -q findspark"
      ],
      "execution_count": null,
      "outputs": []
    },
    {
      "cell_type": "code",
      "metadata": {
        "id": "pdYrydnEkC-J",
        "colab_type": "code",
        "colab": {}
      },
      "source": [
        "import os\n",
        "os.environ[\"JAVA_HOME\"] = \"/usr/lib/jvm/java-8-openjdk-amd64\"\n",
        "os.environ[\"SPARK_HOME\"] = \"/content/spark-2.4.6-bin-hadoop2.7\""
      ],
      "execution_count": null,
      "outputs": []
    },
    {
      "cell_type": "markdown",
      "metadata": {
        "id": "3j8u7pa6kYwK",
        "colab_type": "text"
      },
      "source": [
        "\n",
        "\n",
        "*   Import Library yang sudah di Install\n",
        "\n"
      ]
    },
    {
      "cell_type": "code",
      "metadata": {
        "id": "gNy4GoGxkPLo",
        "colab_type": "code",
        "colab": {}
      },
      "source": [
        "import findspark\n",
        "findspark.init(\"spark-2.4.6-bin-hadoop2.7\")# SPARK_HOME\n",
        "from pyspark.sql import SparkSession\n",
        "spark = SparkSession.builder.master(\"local[*]\").getOrCreate()\n",
        "from pyspark.sql.functions import col, avg"
      ],
      "execution_count": null,
      "outputs": []
    },
    {
      "cell_type": "code",
      "metadata": {
        "id": "nrvWUU5XkhOA",
        "colab_type": "code",
        "colab": {}
      },
      "source": [
        "!pip install -q pyspark_dist_explore"
      ],
      "execution_count": null,
      "outputs": []
    },
    {
      "cell_type": "code",
      "metadata": {
        "id": "J5rP9I8NktDk",
        "colab_type": "code",
        "colab": {}
      },
      "source": [
        "import matplotlib.pyplot as plt\n",
        "from pyspark_dist_explore import Histogram, hist"
      ],
      "execution_count": null,
      "outputs": []
    },
    {
      "cell_type": "markdown",
      "metadata": {
        "id": "_btggJ3mk6j6",
        "colab_type": "text"
      },
      "source": [
        "\n",
        "\n",
        "*  Inisialisasi SparkContext dan SparkSession\n",
        "\n"
      ]
    },
    {
      "cell_type": "code",
      "metadata": {
        "id": "uUbS6b_ElIWe",
        "colab_type": "code",
        "colab": {}
      },
      "source": [
        "sc = spark.sparkContext\n",
        "spark = SparkSession(sc)"
      ],
      "execution_count": null,
      "outputs": []
    },
    {
      "cell_type": "markdown",
      "metadata": {
        "id": "yTXm3xwJlRma",
        "colab_type": "text"
      },
      "source": [
        "\n",
        "\n",
        "*   Load Dataset Netflix Tv Show and Movie\n",
        "\n"
      ]
    },
    {
      "cell_type": "code",
      "metadata": {
        "id": "FP5lrqW3ld9m",
        "colab_type": "code",
        "colab": {
          "base_uri": "https://localhost:8080/",
          "height": 255
        },
        "outputId": "6a131cf0-bb4d-4f57-cbcd-bfaa555791e7"
      },
      "source": [
        "netflix_df = spark.read.csv(\"netflix_titles.csv\", header=True, inferSchema=True)\n",
        "netflix_df.printSchema() #mengecek schema dari dataset"
      ],
      "execution_count": null,
      "outputs": [
        {
          "output_type": "stream",
          "text": [
            "root\n",
            " |-- show_id: string (nullable = true)\n",
            " |-- type: string (nullable = true)\n",
            " |-- title: string (nullable = true)\n",
            " |-- director: string (nullable = true)\n",
            " |-- cast: string (nullable = true)\n",
            " |-- country: string (nullable = true)\n",
            " |-- date_added: string (nullable = true)\n",
            " |-- release_year: string (nullable = true)\n",
            " |-- rating: string (nullable = true)\n",
            " |-- duration: string (nullable = true)\n",
            " |-- listed_in: string (nullable = true)\n",
            " |-- description: string (nullable = true)\n",
            "\n"
          ],
          "name": "stdout"
        }
      ]
    },
    {
      "cell_type": "markdown",
      "metadata": {
        "id": "vvExlBLjXRDT",
        "colab_type": "text"
      },
      "source": [
        "Seperti skema yang terlihat pada data diatas, dataset Netflix TV Show and Movie memiliki 12 kolom. pada pemrosesan data kali ini sesuai dengan judul yang saya ambil yaitu \"Menghitung Perbandungan jumlah TV Show dan Movie pada Netflix berdasarkan tahun Perilisan\", maka analisa yang saya lakukan terdapat pada kolom TYPE dan RELEASE_YEAR."
      ]
    },
    {
      "cell_type": "markdown",
      "metadata": {
        "id": "WorDez5Yl82o",
        "colab_type": "text"
      },
      "source": [
        "**1. Proses EDA (Exploratory Data Analysis)**"
      ]
    },
    {
      "cell_type": "code",
      "metadata": {
        "id": "XTMeQCnymC9W",
        "colab_type": "code",
        "colab": {
          "base_uri": "https://localhost:8080/",
          "height": 68
        },
        "outputId": "6257777e-9c5c-4fa6-cddb-663bf11ed8e9"
      },
      "source": [
        "#Mengecek Jumlah seluruh Tayangan TV Show dan Movie pada Dataset\n",
        "print(\" \")\n",
        "print(\"Jumlah total Seluruh Tayangan pada Netflix :\")\n",
        "netflix_df.count()"
      ],
      "execution_count": null,
      "outputs": [
        {
          "output_type": "stream",
          "text": [
            " \n",
            "Jumlah total Seluruh Tayangan pada Netflix :\n"
          ],
          "name": "stdout"
        },
        {
          "output_type": "execute_result",
          "data": {
            "text/plain": [
              "6236"
            ]
          },
          "metadata": {
            "tags": []
          },
          "execution_count": 9
        }
      ]
    },
    {
      "cell_type": "code",
      "metadata": {
        "id": "ZQMB1tkv-rKo",
        "colab_type": "code",
        "colab": {
          "base_uri": "https://localhost:8080/",
          "height": 68
        },
        "outputId": "af13b108-c463-43e5-f60b-b8672b0e5880"
      },
      "source": [
        "#Mengecek Jumlah Tayangan TV show pada Netflix\n",
        "print(\"Jumlah TV Show pada Netflix : \")\n",
        "print(\" \")\n",
        "\n",
        "netflix_tvshow = netflix_df.filter(netflix_df.type == \"TV Show\")\n",
        "netflix_tvshow.count()"
      ],
      "execution_count": null,
      "outputs": [
        {
          "output_type": "stream",
          "text": [
            "Jumlah TV Show pada Netflix : \n",
            " \n"
          ],
          "name": "stdout"
        },
        {
          "output_type": "execute_result",
          "data": {
            "text/plain": [
              "1969"
            ]
          },
          "metadata": {
            "tags": []
          },
          "execution_count": 10
        }
      ]
    },
    {
      "cell_type": "code",
      "metadata": {
        "id": "ejzDUCV9_iBa",
        "colab_type": "code",
        "colab": {
          "base_uri": "https://localhost:8080/",
          "height": 68
        },
        "outputId": "bcfd3bc5-fe9b-4367-d602-30a218117b09"
      },
      "source": [
        "#Mengecek Jumlah tayangan Movie pada Netflix\n",
        "print(\"Jumlah Movie pada Netflix : \")\n",
        "print(\" \")\n",
        "\n",
        "netflix_Movie = netflix_df.filter(netflix_df.type == \"Movie\")\n",
        "netflix_Movie.count()"
      ],
      "execution_count": null,
      "outputs": [
        {
          "output_type": "stream",
          "text": [
            "Jumlah Movie pada Netflix : \n",
            " \n"
          ],
          "name": "stdout"
        },
        {
          "output_type": "execute_result",
          "data": {
            "text/plain": [
              "4265"
            ]
          },
          "metadata": {
            "tags": []
          },
          "execution_count": 11
        }
      ]
    },
    {
      "cell_type": "code",
      "metadata": {
        "id": "2LEoXSBAUwBo",
        "colab_type": "code",
        "colab": {
          "base_uri": "https://localhost:8080/",
          "height": 207
        },
        "outputId": "ac7c8a0b-c08f-4d9b-b96c-c8fd5c6b100b"
      },
      "source": [
        "#statistik dataset netflix tv show and movie\n",
        "netflix_df.describe().show()"
      ],
      "execution_count": null,
      "outputs": [
        {
          "output_type": "stream",
          "text": [
            "+-------+--------------------+-------------+---------------------------------+--------------------+--------------------+----------------+--------------+-----------------+--------------+-------------+---------------+--------------------+\n",
            "|summary|             show_id|         type|                            title|            director|                cast|         country|    date_added|     release_year|        rating|     duration|      listed_in|         description|\n",
            "+-------+--------------------+-------------+---------------------------------+--------------------+--------------------+----------------+--------------+-----------------+--------------+-------------+---------------+--------------------+\n",
            "|  count|                6236|         6235|                             6234|                4265|                5665|            5758|          6223|             6234|          6224|         6234|           6233|                6233|\n",
            "|   mean| 7.670367931985883E7|         null|                976.4444444444445|                null|                null|          1944.0|          null|2013.367169932541|          null|         null|           null|  2014.6666666666667|\n",
            "| stddev|1.0942964649884736E7|         null|                951.5683253333823|                null|                null|             NaN|          null|8.772251335858451|          null|         null|           null|   4.509249752822894|\n",
            "|    min| and probably will.\"|        Movie|             \"Behind \"\"The Cov...|\"Sam \"\"Blitz\"\" Ba...|\"Black Deniro, By...| Ama K. Abebrese| April 1, 2014|   Francis Weddey| Adriane Lenox| Alan Cumming| Eden Marryshow|             RuPaul\"|\n",
            "|    max|    Flying Fortress\"|William Wyler|최강전사 미니특공대 : 영웅의 탄생|        Şenol Sönmez|Şükrü Özyıldız, A...|    West Germany|         TV-PG|           40 min|            UR|United States|  United States|Zixin is about to...|\n",
            "+-------+--------------------+-------------+---------------------------------+--------------------+--------------------+----------------+--------------+-----------------+--------------+-------------+---------------+--------------------+\n",
            "\n"
          ],
          "name": "stdout"
        }
      ]
    },
    {
      "cell_type": "code",
      "metadata": {
        "id": "avvxl_uQtven",
        "colab_type": "code",
        "colab": {
          "base_uri": "https://localhost:8080/",
          "height": 187
        },
        "outputId": "493ae241-a5a2-46d5-c2bc-d941d029fb3f"
      },
      "source": [
        "#Mengecek Statistik Data sebelum dilakukan perubahan type data\n",
        "netflix_df.select('release_year').describe().show()"
      ],
      "execution_count": null,
      "outputs": [
        {
          "output_type": "stream",
          "text": [
            "+-------+-----------------+\n",
            "|summary|     release_year|\n",
            "+-------+-----------------+\n",
            "|  count|             6234|\n",
            "|   mean|2013.367169932541|\n",
            "| stddev|8.772251335858451|\n",
            "|    min|   Francis Weddey|\n",
            "|    max|           40 min|\n",
            "+-------+-----------------+\n",
            "\n"
          ],
          "name": "stdout"
        }
      ]
    },
    {
      "cell_type": "markdown",
      "metadata": {
        "id": "emb4VtdLYjMo",
        "colab_type": "text"
      },
      "source": [
        "Pada pengecekan data statistik di kolom release_year ini tipe data pada kolom ini masih berupa string sehingga pada data min dan max nya masih belum tepat, oleh karena itu perlu dilakukan perubahan tipe data pada kolom tersebut karena kolom ini akan digunakan pada proses selanjutnya."
      ]
    },
    {
      "cell_type": "markdown",
      "metadata": {
        "id": "rzgPjQyuGqsN",
        "colab_type": "text"
      },
      "source": [
        "**- Melakukan Perubahan Type Data pada kolom Release Year** \n"
      ]
    },
    {
      "cell_type": "markdown",
      "metadata": {
        "id": "5f_Vdqi1H0MN",
        "colab_type": "text"
      },
      "source": [
        "Perubahan tipe data pada kolom release year dari string menjadi integer dilakukan agar data pada kolom tersebut dapat diproses sebagaimana mestinya dan tidak terjadi ke ambiguan pada data. Perubahan yang dilakukan dapat dilihat sebagai berikut :"
      ]
    },
    {
      "cell_type": "code",
      "metadata": {
        "id": "SZ3_NNWD8ykG",
        "colab_type": "code",
        "colab": {
          "base_uri": "https://localhost:8080/",
          "height": 697
        },
        "outputId": "a96eb970-70e8-442e-d70b-93b6065b786c"
      },
      "source": [
        "#Mengubah type data pada kolom Release Year\n",
        "from pyspark.sql.types import IntegerType\n",
        "\n",
        "netflix_df_new = netflix_df.withColumn(\"release_year\", netflix_df[\"release_year\"].cast(IntegerType()))\n",
        "netflix_df_new.printSchema()\n",
        "netflix_df_new.select(\"release_year\").show()"
      ],
      "execution_count": null,
      "outputs": [
        {
          "output_type": "stream",
          "text": [
            "root\n",
            " |-- show_id: string (nullable = true)\n",
            " |-- type: string (nullable = true)\n",
            " |-- title: string (nullable = true)\n",
            " |-- director: string (nullable = true)\n",
            " |-- cast: string (nullable = true)\n",
            " |-- country: string (nullable = true)\n",
            " |-- date_added: string (nullable = true)\n",
            " |-- release_year: integer (nullable = true)\n",
            " |-- rating: string (nullable = true)\n",
            " |-- duration: string (nullable = true)\n",
            " |-- listed_in: string (nullable = true)\n",
            " |-- description: string (nullable = true)\n",
            "\n",
            "+------------+\n",
            "|release_year|\n",
            "+------------+\n",
            "|        2019|\n",
            "|        2016|\n",
            "|        2013|\n",
            "|        2016|\n",
            "|        2017|\n",
            "|        2016|\n",
            "|        2014|\n",
            "|        2017|\n",
            "|        2017|\n",
            "|        2014|\n",
            "|        2017|\n",
            "|        2015|\n",
            "|        2009|\n",
            "|        2013|\n",
            "|        2016|\n",
            "|        2012|\n",
            "|        2017|\n",
            "|        2010|\n",
            "|        2013|\n",
            "|        2015|\n",
            "+------------+\n",
            "only showing top 20 rows\n",
            "\n"
          ],
          "name": "stdout"
        }
      ]
    },
    {
      "cell_type": "code",
      "metadata": {
        "id": "kP8h_q1sGXmn",
        "colab_type": "code",
        "colab": {
          "base_uri": "https://localhost:8080/",
          "height": 187
        },
        "outputId": "c0aecbd0-8b5f-430a-98e3-009af9988c85"
      },
      "source": [
        "#Mengecek Statistik Data Setelah Perubahan type data pada kolom release year\n",
        "netflix_df_new.select('release_year').describe().show()"
      ],
      "execution_count": null,
      "outputs": [
        {
          "output_type": "stream",
          "text": [
            "+-------+-----------------+\n",
            "|summary|     release_year|\n",
            "+-------+-----------------+\n",
            "|  count|             6226|\n",
            "|   mean|2013.367169932541|\n",
            "| stddev|8.772251335858451|\n",
            "|    min|             1925|\n",
            "|    max|             2020|\n",
            "+-------+-----------------+\n",
            "\n"
          ],
          "name": "stdout"
        }
      ]
    },
    {
      "cell_type": "markdown",
      "metadata": {
        "id": "Fs575GgVFpk1",
        "colab_type": "text"
      },
      "source": [
        "**- Persebaran Data Pada kolom Release Year**"
      ]
    },
    {
      "cell_type": "code",
      "metadata": {
        "id": "FfJdpomBDISZ",
        "colab_type": "code",
        "colab": {
          "base_uri": "https://localhost:8080/",
          "height": 320
        },
        "outputId": "54e9aa05-e79e-4536-e8b6-45beff6541e5"
      },
      "source": [
        "#Persebaran data pada kolom release_year\n",
        "netflix_df_new_releaseYear = netflix_df_new.select('release_year')\n",
        "\n",
        "fig, axes = plt.subplots()\n",
        "fig.set_size_inches(5, 5)\n",
        "hist(axes, netflix_df_new_releaseYear, bins=20, color=\"yellow\")\n",
        "plt.show()"
      ],
      "execution_count": null,
      "outputs": [
        {
          "output_type": "display_data",
          "data": {
            "image/png": "[encoded data removed]",
            "text/plain": [
              "<Figure size 360x360 with 1 Axes>"
            ]
          },
          "metadata": {
            "tags": [],
            "needs_background": "light"
          }
        }
      ]
    },
    {
      "cell_type": "code",
      "metadata": {
        "id": "J0Xa8bBjJFZ1",
        "colab_type": "code",
        "colab": {
          "base_uri": "https://localhost:8080/",
          "height": 51
        },
        "outputId": "009699b1-cd6e-49bd-d7cb-43151d95cd86"
      },
      "source": [
        "#Mengecek jumlah nilai null pada kolom release year\n",
        "print(\"Jumlah total pada kolom Release Year kosong(null):\")\n",
        "netflix_df_new.where(col(\"release_year\").isNull()).count()"
      ],
      "execution_count": null,
      "outputs": [
        {
          "output_type": "stream",
          "text": [
            "Jumlah total pada kolom Release Year kosong(null):\n"
          ],
          "name": "stdout"
        },
        {
          "output_type": "execute_result",
          "data": {
            "text/plain": [
              "10"
            ]
          },
          "metadata": {
            "tags": []
          },
          "execution_count": 17
        }
      ]
    },
    {
      "cell_type": "markdown",
      "metadata": {
        "id": "J29PXFYjZSNC",
        "colab_type": "text"
      },
      "source": [
        "**- PreProcessing Data**"
      ]
    },
    {
      "cell_type": "markdown",
      "metadata": {
        "id": "qvOxve39ZtXn",
        "colab_type": "text"
      },
      "source": [
        "Pre-Processing ini dilakukan untuk melakukan Pengisian data pada data Null yang terdapat pada kolom release year. Hal ini bisa dilakukan dengan beberapa cara, misalnya mengganti nilai null dengan nilai 0, mengganti dengan nilai baris sebelumnya, menggunakan mean (rata-rata), dan lain-lain. Penggantian pada proses kali ini akan menggunakan nilai mean dari kolom tersebut."
      ]
    },
    {
      "cell_type": "code",
      "metadata": {
        "id": "LoGdtXUxa_9K",
        "colab_type": "code",
        "colab": {
          "base_uri": "https://localhost:8080/",
          "height": 34
        },
        "outputId": "1dd42e67-a91b-430b-edd8-5756a1a8eec7"
      },
      "source": [
        "#pengisian kolom Release year yang bernilai Null\n",
        "mean_releaseYear = netflix_df_new.agg(avg(col(\"release_year\"))).first()\n",
        "print(\"rata-rata release_year : \", mean_releaseYear[0])\n",
        "netflix_df_new = netflix_df_new.na.fill(mean_releaseYear[0], [\"release_year\"])"
      ],
      "execution_count": null,
      "outputs": [
        {
          "output_type": "stream",
          "text": [
            "rata-rata release_year :  2013.367169932541\n"
          ],
          "name": "stdout"
        }
      ]
    },
    {
      "cell_type": "code",
      "metadata": {
        "id": "NaxE_6FPcVan",
        "colab_type": "code",
        "colab": {
          "base_uri": "https://localhost:8080/",
          "height": 51
        },
        "outputId": "8a7034b2-b144-44c5-b252-019b2de100f2"
      },
      "source": [
        "#Mengecek Jumlah Null setelah dilakukan pengisian\n",
        "print(\"Jumlah nilai pada kolom release_year kosong(null):\")\n",
        "netflix_df_new.where(col(\"release_year\").isNull()).count()"
      ],
      "execution_count": null,
      "outputs": [
        {
          "output_type": "stream",
          "text": [
            "Jumlah nilai pada kolom release_year kosong(null):\n"
          ],
          "name": "stdout"
        },
        {
          "output_type": "execute_result",
          "data": {
            "text/plain": [
              "0"
            ]
          },
          "metadata": {
            "tags": []
          },
          "execution_count": 19
        }
      ]
    },
    {
      "cell_type": "code",
      "metadata": {
        "id": "Va_qO2vrGnc9",
        "colab_type": "code",
        "colab": {
          "base_uri": "https://localhost:8080/",
          "height": 187
        },
        "outputId": "b61d0918-a072-4dec-c953-96521036f643"
      },
      "source": [
        "#Mengecek Statistik Data\n",
        "netflix_df_new.select('release_year').describe().show()"
      ],
      "execution_count": null,
      "outputs": [
        {
          "output_type": "stream",
          "text": [
            "+-------+------------------+\n",
            "|summary|      release_year|\n",
            "+-------+------------------+\n",
            "|  count|              6236|\n",
            "|   mean|2013.3665811417575|\n",
            "| stddev| 8.765226142889697|\n",
            "|    min|              1925|\n",
            "|    max|              2020|\n",
            "+-------+------------------+\n",
            "\n"
          ],
          "name": "stdout"
        }
      ]
    },
    {
      "cell_type": "markdown",
      "metadata": {
        "id": "V3H23r-DIO_t",
        "colab_type": "text"
      },
      "source": [
        "**2. Data Processing**"
      ]
    },
    {
      "cell_type": "markdown",
      "metadata": {
        "id": "HDt-SFT7IkRJ",
        "colab_type": "text"
      },
      "source": [
        "Setelah melakukan proses EDA dan Pre-processing data, selanjutnya akan dilakukan pemrosesan data Menggunakan salah satu metode yaitu DataFrame Transformations, Actions dan PySparkSQL.\n",
        "\n",
        "Pemrosesan yang akan dilakukan yaitu menghitung perbandingan tayangan pada Netflix dataset antara Tv Show dan Movie."
      ]
    },
    {
      "cell_type": "code",
      "metadata": {
        "id": "9uOKGzOkUh0M",
        "colab_type": "code",
        "colab": {
          "base_uri": "https://localhost:8080/",
          "height": 309
        },
        "outputId": "336a76f1-89a4-4081-c07e-1af9068d92b6"
      },
      "source": [
        "#Memanggil 10 data pertama yang terdapat pada dataset\n",
        "netflix_df_new.show(10)"
      ],
      "execution_count": null,
      "outputs": [
        {
          "output_type": "stream",
          "text": [
            "+--------+-------+--------------------+--------------------+--------------------+--------------------+----------+------------+--------+--------+--------------------+--------------------+\n",
            "| show_id|   type|               title|            director|                cast|             country|date_added|release_year|  rating|duration|           listed_in|         description|\n",
            "+--------+-------+--------------------+--------------------+--------------------+--------------------+----------+------------+--------+--------+--------------------+--------------------+\n",
            "|81145628|  Movie|Norm of the North...|Richard Finn, Tim...|Alan Marriott, An...|United States, In...|  9-Sep-19|        2019|   TV-PG|  90 min|Children & Family...|Before planning a...|\n",
            "|80117401|  Movie|Jandino: Whatever...|                null|    Jandino Asporaat|      United Kingdom|  9-Sep-16|        2016|   TV-MA|  94 min|     Stand-Up Comedy|\"Jandino Asporaat...|\n",
            "|70234439|TV Show|  Transformers Prime|                null|Peter Cullen, Sum...|       United States|  8-Sep-18|        2013|TV-Y7-FV|1 Season|            Kids' TV|With the help of ...|\n",
            "|80058654|TV Show|Transformers: Rob...|                null|Will Friedle, Dar...|       United States|  8-Sep-18|        2016|   TV-Y7|1 Season|            Kids' TV|When a prison shi...|\n",
            "|80125979|  Movie|        #realityhigh|    Fernando Lebrija|Nesta Cooper, Kat...|       United States|  8-Sep-17|        2017|   TV-14|  99 min|            Comedies|When nerdy high s...|\n",
            "|80163890|TV Show|             Apaches|                null|Alberto Ammann, E...|               Spain|  8-Sep-17|        2016|   TV-MA|1 Season|Crime TV Shows, I...|A young journalis...|\n",
            "|70304989|  Movie|            Automata|         Gabe Ibáñez|Antonio Banderas,...|Bulgaria, United ...|  8-Sep-17|        2014|       R| 110 min|International Mov...|In a dystopian fu...|\n",
            "|80164077|  Movie|Fabrizio Copano: ...|Rodrigo Toro, Fra...|     Fabrizio Copano|               Chile|  8-Sep-17|        2017|   TV-MA|  60 min|     Stand-Up Comedy|Fabrizio Copano t...|\n",
            "|80117902|TV Show|        Fire Chasers|                null|                null|       United States|  8-Sep-17|        2017|   TV-MA|1 Season|Docuseries, Scien...|As California's 2...|\n",
            "|70304990|  Movie|         Good People|   Henrik Ruben Genz|James Franco, Kat...|United States, Un...|  8-Sep-17|        2014|       R|  90 min|Action & Adventur...|A struggling coup...|\n",
            "+--------+-------+--------------------+--------------------+--------------------+--------------------+----------+------------+--------+--------+--------------------+--------------------+\n",
            "only showing top 10 rows\n",
            "\n"
          ],
          "name": "stdout"
        }
      ]
    },
    {
      "cell_type": "markdown",
      "metadata": {
        "id": "e-CmgadaGTFB",
        "colab_type": "text"
      },
      "source": [
        "Menggunakan SparkSQL dalam Pemrosesan"
      ]
    },
    {
      "cell_type": "markdown",
      "metadata": {
        "id": "_3icF93rpzLb",
        "colab_type": "text"
      },
      "source": [
        "Pada Pemrosesan ini saya menggunakan SparkSQL, Pemrosesan ini dilakukan untuk mengetahui perbandingan antara tayangan TV Show dan Movie."
      ]
    },
    {
      "cell_type": "markdown",
      "metadata": {
        "id": "UNGryk-hbY3y",
        "colab_type": "text"
      },
      "source": [
        "sebelum menampilkan perbandingannya berikut merupakan data masing-masing tayangan pada netflix:\n"
      ]
    },
    {
      "cell_type": "code",
      "metadata": {
        "id": "o2DbU6Aibpnh",
        "colab_type": "code",
        "colab": {
          "base_uri": "https://localhost:8080/",
          "height": 649
        },
        "outputId": "91f1949c-182d-45bd-c458-dd5fe1e74da8"
      },
      "source": [
        "#Membuat tabel\n",
        "netflix_df_new.createOrReplaceTempView(\"netflix\")\n",
        "\n",
        "#Persebaran data pada Tayangan TV Show pada Netflix\n",
        "netflix_TVshow = spark.sql(\"SELECT * FROM netflix WHERE type=='TV Show'\")\n",
        "print(\"Jumlah tayangan TV Show di Netflix : \", netflix_TVshow.count())\n",
        "print(\"Berikut merupakan 10 data pertama pada tayangan TV Show di Netflix :\")\n",
        "netflix_TVshow.show(10)\n",
        "\n",
        "\n",
        "#Persebaran data pada Tayangan Movie pada Netflix\n",
        "netflix_Movie = spark.sql(\"SELECT * FROM netflix WHERE type=='Movie'\")\n",
        "print(\"Jumlah tayangan Movie di Netflix : \", netflix_Movie.count())\n",
        "print(\"Berikut merupakan 10 data pertama pada tayangan Movie di Netflix : \")\n",
        "netflix_Movie.show(10)"
      ],
      "execution_count": null,
      "outputs": [
        {
          "output_type": "stream",
          "text": [
            "Jumlah tayangan TV Show di Netflix :  1969\n",
            "Berikut merupakan 10 data pertama pada tayangan TV Show di Netflix :\n",
            "+--------+-------+--------------------+--------+--------------------+-------------+----------+------------+--------+--------+--------------------+--------------------+\n",
            "| show_id|   type|               title|director|                cast|      country|date_added|release_year|  rating|duration|           listed_in|         description|\n",
            "+--------+-------+--------------------+--------+--------------------+-------------+----------+------------+--------+--------+--------------------+--------------------+\n",
            "|70234439|TV Show|  Transformers Prime|    null|Peter Cullen, Sum...|United States|  8-Sep-18|        2013|TV-Y7-FV|1 Season|            Kids' TV|With the help of ...|\n",
            "|80058654|TV Show|Transformers: Rob...|    null|Will Friedle, Dar...|United States|  8-Sep-18|        2016|   TV-Y7|1 Season|            Kids' TV|When a prison shi...|\n",
            "|80163890|TV Show|             Apaches|    null|Alberto Ammann, E...|        Spain|  8-Sep-17|        2016|   TV-MA|1 Season|Crime TV Shows, I...|A young journalis...|\n",
            "|80117902|TV Show|        Fire Chasers|    null|                null|United States|  8-Sep-17|        2017|   TV-MA|1 Season|Docuseries, Scien...|As California's 2...|\n",
            "|80244601|TV Show|     Castle of Stars|    null|Chaiyapol Pupart,...|         null|  7-Sep-18|        2015|   TV-14|1 Season|International TV ...|As four couples w...|\n",
            "|80190843|TV Show|      First and Last|    null|                null|         null|  7-Sep-18|        2018|   TV-MA|1 Season|          Docuseries|Take an intimate ...|\n",
            "|80221550|TV Show|Archibald's Next ...|    null|Tony Hale, Rosamu...|         null|  6-Sep-19|        2019|   TV-Y7|1 Season|Kids' TV, TV Come...|Happy-go-lucky ch...|\n",
            "|80178151|TV Show|             The Spy|    null|Sacha Baron Cohen...|       France|  6-Sep-19|        2019|   TV-MA|1 Season|International TV ...|In the 1960s, Isr...|\n",
            "|80113482|TV Show|         No Tomorrow|    null|Joshua Sasse, Tor...|United States|  5-Sep-17|        2016|   TV-14|1 Season|Romantic TV Shows...|Her straitjackete...|\n",
            "|80113641|TV Show|           Frequency|    null|Peyton List, Rile...|United States|  4-Sep-17|        2016|   TV-14|1 Season|Crime TV Shows, T...|A detective seize...|\n",
            "+--------+-------+--------------------+--------+--------------------+-------------+----------+------------+--------+--------+--------------------+--------------------+\n",
            "only showing top 10 rows\n",
            "\n",
            "Jumlah tayangan Movie di Netflix :  4265\n",
            "Berikut merupakan 10 data pertama pada tayangan Movie di Netflix : \n",
            "+--------+-----+--------------------+--------------------+--------------------+--------------------+----------+------------+------+--------+--------------------+--------------------+\n",
            "| show_id| type|               title|            director|                cast|             country|date_added|release_year|rating|duration|           listed_in|         description|\n",
            "+--------+-----+--------------------+--------------------+--------------------+--------------------+----------+------------+------+--------+--------------------+--------------------+\n",
            "|81145628|Movie|Norm of the North...|Richard Finn, Tim...|Alan Marriott, An...|United States, In...|  9-Sep-19|        2019| TV-PG|  90 min|Children & Family...|Before planning a...|\n",
            "|80117401|Movie|Jandino: Whatever...|                null|    Jandino Asporaat|      United Kingdom|  9-Sep-16|        2016| TV-MA|  94 min|     Stand-Up Comedy|\"Jandino Asporaat...|\n",
            "|80125979|Movie|        #realityhigh|    Fernando Lebrija|Nesta Cooper, Kat...|       United States|  8-Sep-17|        2017| TV-14|  99 min|            Comedies|When nerdy high s...|\n",
            "|70304989|Movie|            Automata|         Gabe Ibáñez|Antonio Banderas,...|Bulgaria, United ...|  8-Sep-17|        2014|     R| 110 min|International Mov...|In a dystopian fu...|\n",
            "|80164077|Movie|Fabrizio Copano: ...|Rodrigo Toro, Fra...|     Fabrizio Copano|               Chile|  8-Sep-17|        2017| TV-MA|  60 min|     Stand-Up Comedy|Fabrizio Copano t...|\n",
            "|70304990|Movie|         Good People|   Henrik Ruben Genz|James Franco, Kat...|United States, Un...|  8-Sep-17|        2014|     R|  90 min|Action & Adventur...|A struggling coup...|\n",
            "|80169755|Movie|Joaquín Reyes: Un...|José Miguel Contr...|       Joaquín Reyes|                null|  8-Sep-17|        2017| TV-MA|  78 min|     Stand-Up Comedy|Comedian and cele...|\n",
            "|70299204|Movie|Kidnapping Mr. He...|    Daniel Alfredson|Jim Sturgess, Sam...|Netherlands, Belg...|  8-Sep-17|        2015|     R|  95 min|Action & Adventur...|\"When beer magnat...|\n",
            "|80182480|Movie|Krish Trish and B...|                null|Damandeep Singh B...|                null|  8-Sep-17|        2009| TV-Y7|  58 min|Children & Family...|A team of minstre...|\n",
            "|80182483|Movie|Krish Trish and B...|Munjal Shroff, Ti...|Damandeep Singh B...|                null|  8-Sep-17|        2013| TV-Y7|  62 min|Children & Family...|An artisan is che...|\n",
            "+--------+-----+--------------------+--------------------+--------------------+--------------------+----------+------------+------+--------+--------------------+--------------------+\n",
            "only showing top 10 rows\n",
            "\n"
          ],
          "name": "stdout"
        }
      ]
    },
    {
      "cell_type": "code",
      "metadata": {
        "id": "JakL6DB6Zel6",
        "colab_type": "code",
        "colab": {
          "base_uri": "https://localhost:8080/",
          "height": 221
        },
        "outputId": "ff6c0115-d161-45f2-b240-84c116a5f4e4"
      },
      "source": [
        "#Tayangan TV Show\n",
        "data_TVshow = spark.sql(\"SELECT * FROM netflix WHERE type=='TV Show'\")\n",
        "print(\"Menampilkan Jumlah tayangan TV Show Pada Netflix :\", data_TVshow.count())\n",
        "print(\" \")\n",
        "\n",
        "#Tayangan Movie\n",
        "data_Movie = spark.sql(\"SELECT * FROM netflix WHERE type=='Movie'\")\n",
        "print(\"Menampilkan Jumlah tayangan Movie Pada Netflix :\", data_Movie.count())\n",
        "print(\" \")\n",
        "\n",
        "#membandingkan data Tv Show dengan Movie\n",
        "netflix_df_new_Ratio = spark.sql(\"SELECT type, COUNT(*) AS Total FROM netflix WHERE type=='TV Show' OR type=='Movie' GROUP BY type ORDER BY Total DESC \")\n",
        "print(\"Menampilkan Perbandingan Antara tayangan TV Show dengan Movie Pada Netflix :\")\n",
        "netflix_df_new_Ratio.show()"
      ],
      "execution_count": null,
      "outputs": [
        {
          "output_type": "stream",
          "text": [
            "Menampilkan Jumlah tayangan TV Show Pada Netflix : 1969\n",
            " \n",
            "Menampilkan Jumlah tayangan Movie Pada Netflix : 4265\n",
            " \n",
            "Menampilkan Perbandingan Antara tayangan TV Show dengan Movie Pada Netflix :\n",
            "+-------+-----+\n",
            "|   type|Total|\n",
            "+-------+-----+\n",
            "|  Movie| 4265|\n",
            "|TV Show| 1969|\n",
            "+-------+-----+\n",
            "\n"
          ],
          "name": "stdout"
        }
      ]
    },
    {
      "cell_type": "code",
      "metadata": {
        "id": "UQys9IMssOH6",
        "colab_type": "code",
        "colab": {
          "base_uri": "https://localhost:8080/",
          "height": 629
        },
        "outputId": "84e95848-ab8c-496d-da5e-621bd3068c5b"
      },
      "source": [
        "#menampilkan sebaran tayangan TV Show  \n",
        "tvshow_ReleaseYear = spark.sql(\"SELECT type, release_year, COUNT(*) AS Total FROM netflix WHERE type=='TV Show' GROUP BY release_year, type ORDER BY release_year DESC \")\n",
        "print(\"Menampilkan Tayangan TV Show pada Netflix berdasarkan urutan tahun:\")\n",
        "tvshow_ReleaseYear.show(5)\n",
        "\n",
        "#menampilkan sebaran tayangan Movie \n",
        "movie_ReleaseYear = spark.sql(\"SELECT type, release_year, COUNT(*) AS Total FROM netflix WHERE type=='Movie' GROUP BY release_year, type ORDER BY release_year DESC \")\n",
        "print(\"Menampilkan Tayangan Movie pada Netflix berdasarkan urutan Tahun :\")\n",
        "movie_ReleaseYear.show(5)\n",
        "\n",
        "#menampilkan sebaran tayangan netflix \n",
        "netflix_df_new_ReleaseYear = spark.sql(\"SELECT type, release_year, COUNT(*) AS Total FROM netflix WHERE type=='TV Show' OR type=='Movie' GROUP BY release_year, type ORDER BY release_year DESC \")\n",
        "print(\"Menampilkan Tayangan Netflix berdasarkan urutan tahun :\")\n",
        "netflix_df_new_ReleaseYear.show(5)"
      ],
      "execution_count": null,
      "outputs": [
        {
          "output_type": "stream",
          "text": [
            "Menampilkan Tayangan TV Show pada Netflix berdasarkan urutan tahun:\n",
            "+-------+------------+-----+\n",
            "|   type|release_year|Total|\n",
            "+-------+------------+-----+\n",
            "|TV Show|        2020|   19|\n",
            "|TV Show|        2019|  442|\n",
            "|TV Show|        2018|  417|\n",
            "|TV Show|        2017|  277|\n",
            "|TV Show|        2016|  237|\n",
            "+-------+------------+-----+\n",
            "only showing top 5 rows\n",
            "\n",
            "Menampilkan Tayangan Movie pada Netflix berdasarkan urutan Tahun :\n",
            "+-----+------------+-----+\n",
            "| type|release_year|Total|\n",
            "+-----+------------+-----+\n",
            "|Movie|        2020|    6|\n",
            "|Movie|        2019|  399|\n",
            "|Movie|        2018|  645|\n",
            "|Movie|        2017|  681|\n",
            "|Movie|        2016|  592|\n",
            "+-----+------------+-----+\n",
            "only showing top 5 rows\n",
            "\n",
            "Menampilkan Tayangan Netflix berdasarkan urutan tahun :\n",
            "+-------+------------+-----+\n",
            "|   type|release_year|Total|\n",
            "+-------+------------+-----+\n",
            "|TV Show|        2020|   19|\n",
            "|  Movie|        2020|    6|\n",
            "|TV Show|        2019|  442|\n",
            "|  Movie|        2019|  399|\n",
            "|  Movie|        2018|  645|\n",
            "+-------+------------+-----+\n",
            "only showing top 5 rows\n",
            "\n"
          ],
          "name": "stdout"
        }
      ]
    },
    {
      "cell_type": "markdown",
      "metadata": {
        "id": "B4I0TUAJ0lda",
        "colab_type": "text"
      },
      "source": [
        "Melakukan Pemrosesan data pada Tayangan TV Show dan Movie pada beberapa tahun perilisan"
      ]
    },
    {
      "cell_type": "markdown",
      "metadata": {
        "id": "ECbbVHYW03nh",
        "colab_type": "text"
      },
      "source": [
        "pemrosesan ini dilakukan dengan SparkSQL pada beberapa tahun Perilisan untuk melihat spesifikasi perbandingan antara tayangan TV Show dan Movie, diantaranya sebagai berikut:"
      ]
    },
    {
      "cell_type": "markdown",
      "metadata": {
        "id": "1fM1MYEV1KJ-",
        "colab_type": "text"
      },
      "source": [
        "* Tayangan Netflix Berdasarakan 5 tahun terakhir \n",
        "\n"
      ]
    },
    {
      "cell_type": "code",
      "metadata": {
        "id": "FjmCK8z23VK2",
        "colab_type": "code",
        "colab": {
          "base_uri": "https://localhost:8080/",
          "height": 1000
        },
        "outputId": "3dc6305f-7ce0-4dd4-fd5a-c40a0920d2c2"
      },
      "source": [
        "#Tayangan TV Show\n",
        "data_TVshow2020 = spark.sql(\"SELECT * FROM netflix WHERE type=='TV Show' AND release_year==2020\")\n",
        "print(\"Menampilkan Jumlah tayangan TV Show Pada Netflix :\", data_TVshow2020.count())\n",
        "print(\" \")\n",
        "\n",
        "#Tayangan Movie\n",
        "data_Movie2020 = spark.sql(\"SELECT * FROM netflix WHERE type=='Movie' AND release_year==2020\")\n",
        "print(\"Menampilkan Jumlah tayangan Movie Pada Netflix :\", data_Movie2020.count())\n",
        "print(\" \")\n",
        "\n",
        "#Menampilkan jumlah tayangan TV Show dan Movie tahun 2018\n",
        "netflix_df_new_release2020 = spark.sql(\"SELECT type, COUNT(*) AS Total FROM netflix WHERE release_year==2020 GROUP BY type \")\n",
        "print(\"a. Menampilkan Jumlah perbandingan Tayangan TV Show dan Movie pada tahun perilisan 2020 :\")\n",
        "netflix_df_new_release2020.show()\n",
        "\n",
        "#Tayangan TV Show\n",
        "data_TVshow2019 = spark.sql(\"SELECT * FROM netflix WHERE type=='TV Show' AND release_year==2019\")\n",
        "print(\"Menampilkan Jumlah tayangan TV Show Pada Netflix :\", data_TVshow2019.count())\n",
        "print(\" \")\n",
        "\n",
        "#Tayangan Movie\n",
        "data_Movie2019 = spark.sql(\"SELECT * FROM netflix WHERE type=='Movie' AND release_year==2019\")\n",
        "print(\"Menampilkan Jumlah tayangan Movie Pada Netflix :\", data_Movie2019.count())\n",
        "print(\" \")\n",
        "\n",
        "#Menampilkan jumlah tayangan TV Show dan Movie tahun 2019\n",
        "netflix_df_new_release2019 = spark.sql(\"SELECT type, COUNT(*) AS Total FROM netflix WHERE release_year==2019 GROUP BY type \")\n",
        "print(\"b. Menampilkan Jumlah perbandingan Tayangan TV Show dan Movie pada tahun perilisan 2019 :\")\n",
        "netflix_df_new_release2019.show()\n",
        "\n",
        "#Tayangan TV Show\n",
        "data_TVshow2018 = spark.sql(\"SELECT * FROM netflix WHERE type=='TV Show' AND release_year==2018\")\n",
        "print(\"Menampilkan Jumlah tayangan TV Show Pada Netflix :\", data_TVshow2018.count())\n",
        "print(\" \")\n",
        "\n",
        "#Tayangan Movie\n",
        "data_Movie2018 = spark.sql(\"SELECT * FROM netflix WHERE type=='Movie' AND release_year==2018\")\n",
        "print(\"Menampilkan Jumlah tayangan Movie Pada Netflix :\", data_Movie2018.count())\n",
        "print(\" \")\n",
        "\n",
        "#Menampilkan jumlah tayangan TV Show dan Movie tahun 2018\n",
        "netflix_df_new_release2018 = spark.sql(\"SELECT type, COUNT(*) AS Total FROM netflix WHERE release_year==2018 GROUP BY type \")\n",
        "print(\"c. Menampilkan Jumlah perbandingan Tayangan TV Show dan Movie pada tahun perilisan 2018 :\")\n",
        "netflix_df_new_release2018.show()\n",
        "\n",
        "#Tayangan TV Show\n",
        "data_TVshow2017 = spark.sql(\"SELECT * FROM netflix WHERE type=='TV Show' AND release_year==2017\")\n",
        "print(\"Menampilkan Jumlah tayangan TV Show Pada Netflix :\", data_TVshow2017.count())\n",
        "print(\" \")\n",
        "\n",
        "#Tayangan Movie\n",
        "data_Movie2017 = spark.sql(\"SELECT * FROM netflix WHERE type=='Movie' AND release_year==2017\")\n",
        "print(\"Menampilkan Jumlah tayangan Movie Pada Netflix :\", data_Movie2017.count())\n",
        "print(\" \")\n",
        "\n",
        "#Menampilkan jumlah tayangan TV Show dan Movie tahun 2017\n",
        "netflix_df_new_release2017 = spark.sql(\"SELECT type, COUNT(*) AS Total FROM netflix WHERE release_year==2017 GROUP BY type \")\n",
        "print(\"d. Menampilkan Jumlah perbandingan Tayangan TV Show dan Movie pada tahun perilisan 2017 :\")\n",
        "netflix_df_new_release2017.show()\n",
        "\n",
        "#Tayangan TV Show\n",
        "data_TVshow2016 = spark.sql(\"SELECT * FROM netflix WHERE type=='TV Show' AND release_year==2016\")\n",
        "print(\"Menampilkan Jumlah tayangan TV Show Pada Netflix :\", data_TVshow2016.count())\n",
        "print(\" \")\n",
        "\n",
        "#Tayangan Movie\n",
        "data_Movie2016 = spark.sql(\"SELECT * FROM netflix WHERE type=='Movie' AND release_year==2016\")\n",
        "print(\"Menampilkan Jumlah tayangan Movie Pada Netflix :\", data_Movie2016.count())\n",
        "print(\" \")\n",
        "\n",
        "#Menampilkan jumlah tayangan TV Show dan Movie tahun 2016\n",
        "netflix_df_new_release2016 = spark.sql(\"SELECT type, COUNT(*) AS Total FROM netflix WHERE release_year==2016 GROUP BY type \")\n",
        "print(\"e. Menampilkan Jumlah perbandingan Tayangan TV Show dan Movie pada tahun perilisan 2016 :\")\n",
        "netflix_df_new_release2016.show()"
      ],
      "execution_count": 171,
      "outputs": [
        {
          "output_type": "stream",
          "text": [
            "Menampilkan Jumlah tayangan TV Show Pada Netflix : 19\n",
            " \n",
            "Menampilkan Jumlah tayangan Movie Pada Netflix : 6\n",
            " \n",
            "a. Menampilkan Jumlah perbandingan Tayangan TV Show dan Movie pada tahun perilisan 2020 :\n",
            "+-------+-----+\n",
            "|   type|Total|\n",
            "+-------+-----+\n",
            "|TV Show|   19|\n",
            "|  Movie|    6|\n",
            "+-------+-----+\n",
            "\n",
            "Menampilkan Jumlah tayangan TV Show Pada Netflix : 442\n",
            " \n",
            "Menampilkan Jumlah tayangan Movie Pada Netflix : 399\n",
            " \n",
            "b. Menampilkan Jumlah perbandingan Tayangan TV Show dan Movie pada tahun perilisan 2019 :\n",
            "+-------+-----+\n",
            "|   type|Total|\n",
            "+-------+-----+\n",
            "|TV Show|  442|\n",
            "|  Movie|  399|\n",
            "+-------+-----+\n",
            "\n",
            "Menampilkan Jumlah tayangan TV Show Pada Netflix : 417\n",
            " \n",
            "Menampilkan Jumlah tayangan Movie Pada Netflix : 645\n",
            " \n",
            "c. Menampilkan Jumlah perbandingan Tayangan TV Show dan Movie pada tahun perilisan 2018 :\n",
            "+-------+-----+\n",
            "|   type|Total|\n",
            "+-------+-----+\n",
            "|TV Show|  417|\n",
            "|  Movie|  645|\n",
            "+-------+-----+\n",
            "\n",
            "Menampilkan Jumlah tayangan TV Show Pada Netflix : 277\n",
            " \n",
            "Menampilkan Jumlah tayangan Movie Pada Netflix : 681\n",
            " \n",
            "d. Menampilkan Jumlah perbandingan Tayangan TV Show dan Movie pada tahun perilisan 2017 :\n",
            "+-------+-----+\n",
            "|   type|Total|\n",
            "+-------+-----+\n",
            "|TV Show|  277|\n",
            "|  Movie|  681|\n",
            "+-------+-----+\n",
            "\n",
            "Menampilkan Jumlah tayangan TV Show Pada Netflix : 237\n",
            " \n",
            "Menampilkan Jumlah tayangan Movie Pada Netflix : 592\n",
            " \n",
            "e. Menampilkan Jumlah perbandingan Tayangan TV Show dan Movie pada tahun perilisan 2016 :\n",
            "+-------+-----+\n",
            "|   type|Total|\n",
            "+-------+-----+\n",
            "|TV Show|  237|\n",
            "|  Movie|  592|\n",
            "+-------+-----+\n",
            "\n"
          ],
          "name": "stdout"
        }
      ]
    },
    {
      "cell_type": "markdown",
      "metadata": {
        "id": "nGYGLPnDFoIK",
        "colab_type": "text"
      },
      "source": [
        "pada pemrosesan data diatas untuk mengetahui perbandingan antara jumlah TV show dan Movie pada 5 tahun terakhir."
      ]
    },
    {
      "cell_type": "markdown",
      "metadata": {
        "id": "YeFfQ9_TNGAa",
        "colab_type": "text"
      },
      "source": [
        "**3. Visualisasi Data**"
      ]
    },
    {
      "cell_type": "markdown",
      "metadata": {
        "id": "Ym7D7o6pNFtW",
        "colab_type": "text"
      },
      "source": [
        "Berikut ini merupakan tahapan terakhir dari pengolahan data yang saya lakukan yaitu berupa memberikan gambaran Visual menggunakan grafik untuk menggambarkan perbandingan jumlah tayangan TV Show dan Movie berdasarkan tahun perilisan pada Netflix."
      ]
    },
    {
      "cell_type": "code",
      "metadata": {
        "id": "6QemOfBsQ_In",
        "colab_type": "code",
        "colab": {
          "base_uri": "https://localhost:8080/",
          "height": 372
        },
        "outputId": "a4390f9f-c0b0-4f93-8a89-10cf4fc025f0"
      },
      "source": [
        "#grafik bar perbandingan jumlah seluruh tayangan TV Show dan Movie\n",
        "fig, axes = plt.subplots()\n",
        "\n",
        "fig.set_size_inches(7, 5)\n",
        "plt.title('Perbandingan Tayangan TV show dan Movie pada Netflix')\n",
        "plt.bar('TV SHOW', data_TVshow.count(), color='yellow')\n",
        "plt.bar('MOVIE', data_Movie.count(), color='blue')\n",
        "plt.xlabel('Tayangan Pada Netflix')\n",
        "plt.ylabel('Jumlah Tayangan')"
      ],
      "execution_count": null,
      "outputs": [
        {
          "output_type": "execute_result",
          "data": {
            "text/plain": [
              "Text(0, 0.5, 'Jumlah Tayangan')"
            ]
          },
          "metadata": {
            "tags": []
          },
          "execution_count": 60
        },
        {
          "output_type": "display_data",
          "data": {
            "image/png": "[encoded data removed]",
            "text/plain": [
              "<Figure size 504x360 with 1 Axes>"
            ]
          },
          "metadata": {
            "tags": []
          }
        }
      ]
    },
    {
      "cell_type": "markdown",
      "metadata": {
        "id": "001GMCdlGNpj",
        "colab_type": "text"
      },
      "source": [
        "pada grafik diatas merupakan visualisasi dari perbandingan jumlah tayangan Tv show dan Movie pada netflix secara keseluruhan dari tahun 1925 sampai tahun 2020. dapat kita lihat bahwasanya secara keseluruhan pengguna lebih banyak mengakses tayangan Movie pada Netflix dibandingkan dengan acara TV Show."
      ]
    },
    {
      "cell_type": "code",
      "metadata": {
        "id": "KHwSFMc8ixPe",
        "colab_type": "code",
        "colab": {
          "base_uri": "https://localhost:8080/",
          "height": 353
        },
        "outputId": "07256f81-ca26-404f-b3df-3e3d0bb48215"
      },
      "source": [
        "#Grafik pie perbandingan Tayangan TV show dan Movie berdasarkan 5 tahun terakhir perilisan\n",
        "fig, axes = plt.subplots()\n",
        "\n",
        "fig.set_size_inches(10, 5)\n",
        "plt.title('Perbandingan Tayangan TV show dan Movie pada Netflix berdasarkan 5 Tahun terakhir perilisan')\n",
        "plt.pie([data_TVshow2018.count(), data_Movie2018.count(), data_TVshow2019.count(), data_Movie2019.count(), data_TVshow2018.count(), data_Movie2018.count(), data_TVshow2017.count(), data_Movie2017.count(), data_TVshow2016.count(), data_Movie2016.count()], labels=['TV2020', 'Movie2020','TV2019', 'Movie2019','TV2018', 'Movie2018', 'TV2017', 'Movie2017', 'TV2016', 'Movie2016',], autopct='%1.1f%%', shadow=True, labeldistance=1.1, startangle=20, colors=['yellow', 'blue'])\n",
        "print('\\n')"
      ],
      "execution_count": null,
      "outputs": [
        {
          "output_type": "stream",
          "text": [
            "\n",
            "\n"
          ],
          "name": "stdout"
        },
        {
          "output_type": "display_data",
          "data": {
            "image/png": "[encoded data removed]",
            "text/plain": [
              "<Figure size 720x360 with 1 Axes>"
            ]
          },
          "metadata": {
            "tags": []
          }
        }
      ]
    },
    {
      "cell_type": "markdown",
      "metadata": {
        "id": "6SH_bh7FHeV4",
        "colab_type": "text"
      },
      "source": [
        "pada visualisai ini menggunakan Pie Chart atau grafik pie untuk memberikan gambaran mengenai jumlah tayangan TV Show dan Movie pada 5 tahun terakhir ini. dimana warna kuning merupakan TV Show dan warna biru merupakan Movie."
      ]
    },
    {
      "cell_type": "code",
      "metadata": {
        "id": "NfOJefq_Owza",
        "colab_type": "code",
        "colab": {
          "base_uri": "https://localhost:8080/",
          "height": 355
        },
        "outputId": "7979ca22-7de9-44f8-d55e-be4f735a032b"
      },
      "source": [
        "#Grafik bar perbandingan Tayangan TV show dan Movie berdasarkan 5 tahun terakhir perilisan\n",
        "fig, axes = plt.subplots()\n",
        "\n",
        "fig.set_size_inches(15, 5)\n",
        "plt.title('Perbandingan Tayangan TV show dan Movie pada Netflix 5 Tahun terakhir perilisan')\n",
        "plt.bar('TV2020', data_TVshow2020.count(), color='green' )\n",
        "plt.bar('M2020', data_Movie2020.count(), color='orange' )\n",
        "plt.bar('TV2019', data_TVshow2019.count(), color='green' )\n",
        "plt.bar('M2019', data_Movie2019.count(), color='orange' )\n",
        "plt.bar('TV2018', data_TVshow2018.count(), color='green' )\n",
        "plt.bar('M2018', data_Movie2018.count(), color='orange' )\n",
        "plt.bar('TV2017', data_TVshow2017.count(), color='green' )\n",
        "plt.bar('M2017', data_Movie2017.count(), color='orange' )\n",
        "plt.bar('TV2016', data_TVshow2016.count(), color='green' )\n",
        "plt.bar('M2016', data_Movie2016.count(), color='orange')\n"
      ],
      "execution_count": 164,
      "outputs": [
        {
          "output_type": "execute_result",
          "data": {
            "text/plain": [
              "<BarContainer object of 1 artists>"
            ]
          },
          "metadata": {
            "tags": []
          },
          "execution_count": 164
        },
        {
          "output_type": "display_data",
          "data": {
            "image/png": "[encoded data removed]",
            "text/plain": [
              "<Figure size 1080x360 with 1 Axes>"
            ]
          },
          "metadata": {
            "tags": []
          }
        }
      ]
    },
    {
      "cell_type": "markdown",
      "metadata": {
        "id": "z0kdNFLdISOo",
        "colab_type": "text"
      },
      "source": [
        "pada visualisai ini menggunakan bar Chart atau grafik batang untuk memberikan gambaran mengenai jumlah tayangan TV Show dan Movie pada 5 tahun terakhir ini. sama seperti pie chart diatas, dengan menggunakan Bar Chart ini lebih mudah dibaca perbandingannya daripada menggunakan yang pie chart. dimana bar warna hijau merupakan TV Show dan bar warna oren merupakan Movie."
      ]
    },
    {
      "cell_type": "code",
      "metadata": {
        "id": "Z1HjOZOgRWkf",
        "colab_type": "code",
        "colab": {
          "base_uri": "https://localhost:8080/",
          "height": 646
        },
        "outputId": "a6cde420-9dc2-42b6-8672-8589dbb1e768"
      },
      "source": [
        "#grafik bar \n",
        "import numpy as np\n",
        "import matplotlib.pyplot as plt\n",
        "import seaborn as sns\n",
        "import pandas as pd\n",
        "\n",
        "\n",
        "sns.set()\n",
        "plt.figure(figsize=(20,10))\n",
        "plt.title('Perbandingan Tayangan TV show dan Movie pada Netflix berdasarkan 15 tahun data pertama')\n",
        "sns.countplot(x=\"release_year\",data= netflix,hue= \"type\",order = netflix['release_year'].value_counts().index[0:15], color='maroon')\n",
        "plt.xticks(rotation=60)\n",
        "plt.show()"
      ],
      "execution_count": 179,
      "outputs": [
        {
          "output_type": "display_data",
          "data": {
            "image/png": "[encoded data removed]",
            "text/plain": [
              "<Figure size 1440x720 with 1 Axes>"
            ]
          },
          "metadata": {
            "tags": []
          }
        }
      ]
    },
    {
      "cell_type": "markdown",
      "metadata": {
        "id": "w6A2FdoWJ3Xl",
        "colab_type": "text"
      },
      "source": [
        "pada visualisai data diatas ini menggunakan gabungan visualisasi matplotlib dengan seaborn, untuk dapat memanggil data secara countplot. dapat dilihat bahwasanya 15 tahun data pertama pada dataset tersebut menampilkan perbedaan perbandingan tayangan pada TV show dan Movie secara jelas dari tahun ketahunnya, dimana dapat kita lihat pada bar yang berwarna merah muda tersebut yang merupakan Movie penayangannya selalu lebih banyak dibandingkan dengan TV Show yang di representasikan dengan bar berwarna merah maroon tersebut."
      ]
    },
    {
      "cell_type": "markdown",
      "metadata": {
        "id": "ePfYnzdfJ3OP",
        "colab_type": "text"
      },
      "source": [
        ""
      ]
    }
  ]
}